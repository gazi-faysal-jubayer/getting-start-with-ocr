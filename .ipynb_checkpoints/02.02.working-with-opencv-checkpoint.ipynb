{
 "cells": [
  {
   "cell_type": "markdown",
   "id": "494922be",
   "metadata": {},
   "source": [
    "# Preprocessing Images for OCR\n"
   ]
  },
  {
   "cell_type": "code",
   "execution_count": null,
   "id": "bd182378",
   "metadata": {},
   "outputs": [],
   "source": []
  },
  {
   "cell_type": "markdown",
   "id": "730d81f6",
   "metadata": {},
   "source": [
    "## Topics\n",
    "\n",
    "    1. Inverted Images\n",
    "    2. Rescaling\n",
    "    3. Binarization\n",
    "    4. Noise Removal\n",
    "    5. Dilation and Erosion\n",
    "    6. Rotation / Deskewing\n",
    "    7. Removing Borders\n",
    "    8. Missing Borders\n",
    "    9. Transparency / Alpha Channel"
   ]
  },
  {
   "cell_type": "markdown",
   "id": "2a7536da",
   "metadata": {},
   "source": [
    "# 00: Opening an Image\n"
   ]
  },
  {
   "cell_type": "code",
   "execution_count": 2,
   "id": "4a9b1ae6",
   "metadata": {},
   "outputs": [
    {
     "ename": "ModuleNotFoundError",
     "evalue": "No module named 'cv2'",
     "output_type": "error",
     "traceback": [
      "\u001b[1;31m---------------------------------------------------------------------------\u001b[0m",
      "\u001b[1;31mModuleNotFoundError\u001b[0m                       Traceback (most recent call last)",
      "Cell \u001b[1;32mIn[2], line 1\u001b[0m\n\u001b[1;32m----> 1\u001b[0m \u001b[38;5;28;01mimport\u001b[39;00m \u001b[38;5;21;01mcv2\u001b[39;00m\n\u001b[0;32m      2\u001b[0m image_file \u001b[38;5;241m=\u001b[39m \u001b[38;5;124m\"\u001b[39m\u001b[38;5;124mdata/data.jpg\u001b[39m\u001b[38;5;124m\"\u001b[39m\n\u001b[0;32m      3\u001b[0m img \u001b[38;5;241m=\u001b[39m cv2\u001b[38;5;241m.\u001b[39mimread(image_file)\n",
      "\u001b[1;31mModuleNotFoundError\u001b[0m: No module named 'cv2'"
     ]
    }
   ],
   "source": [
    "import cv2\n",
    "image_file = \"data/data.jpg\"\n",
    "img = cv2.imread(image_file)"
   ]
  },
  {
   "cell_type": "code",
   "execution_count": null,
   "id": "7949bb7f",
   "metadata": {},
   "outputs": [],
   "source": []
  }
 ],
 "metadata": {
  "celltoolbar": "Raw Cell Format",
  "kernelspec": {
   "display_name": "Python 3 (ipykernel)",
   "language": "python",
   "name": "python3"
  },
  "language_info": {
   "codemirror_mode": {
    "name": "ipython",
    "version": 3
   },
   "file_extension": ".py",
   "mimetype": "text/x-python",
   "name": "python",
   "nbconvert_exporter": "python",
   "pygments_lexer": "ipython3",
   "version": "3.11.4"
  }
 },
 "nbformat": 4,
 "nbformat_minor": 5
}
